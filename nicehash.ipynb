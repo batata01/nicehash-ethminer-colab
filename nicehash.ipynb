{
  "nbformat": 4,
  "nbformat_minor": 0,
  "metadata": {
    "colab": {
      "name": "nicehash",
      "provenance": [],
      "private_outputs": true,
      "collapsed_sections": []
    },
    "kernelspec": {
      "name": "python3",
      "display_name": "Python 3"
    },
    "accelerator": "GPU"
  },
  "cells": [
    {
      "cell_type": "code",
      "metadata": {
        "id": "TsN1XFk1nM1I"
      },
      "source": [
        "!sudo add-apt-repository ppa:ethereum/ethereum\n",
        "!sudo apt update\n",
        "!sudo apt install ethereum\n",
        "!wget https://github.com/ethereum-mining/ethminer/releases/download/v0.18.0/ethminer-0.18.0-cuda-9-linux-x86_64.tar.gz\n",
        "%ls\n",
        "!tar -zxvf ethminer-0.18.0-cuda-9-linux-x86_64.tar.gz\n",
        "%cd bin/\n",
        "!./ethminer -U -P stratum2+tcp://3FPpBoYotv2HVZBnsL43bmdcrsVgkmRdyo@daggerhashimoto.eu.nicehash.com:3353"
      ],
      "execution_count": null,
      "outputs": []
    }
  ]
}